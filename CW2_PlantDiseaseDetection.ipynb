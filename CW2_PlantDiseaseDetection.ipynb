{
 "cells": [
  {
   "cell_type": "markdown",
   "metadata": {},
   "source": [
    "<font color='Blue'><h3>Student Name: Binaya Sharma</h3></font>\n",
    "<font color='Orange'><h3>University ID: 1930050</h3></font>\n",
    "\n",
    "#Submitted Date: June 10, 2020"
   ]
  },
  {
   "cell_type": "markdown",
   "metadata": {},
   "source": [
    "<center><h1>Plant Disease Detection</h1> </center>"
   ]
  },
  {
   "cell_type": "code",
   "execution_count": 1,
   "metadata": {},
   "outputs": [
    {
     "name": "stderr",
     "output_type": "stream",
     "text": [
      "Using TensorFlow backend.\n"
     ]
    }
   ],
   "source": [
    "# Part 1 - Building the CNN\n",
    "\n",
    "# Importing the Keras libraries and packages\n",
    "from keras.models import Sequential\n",
    "from keras.layers import Convolution2D\n",
    "from keras.layers import MaxPooling2D\n",
    "from keras.layers import Flatten\n",
    "from keras.layers import Dense\n",
    "from keras.models import model_from_json\n"
   ]
  },
  {
   "cell_type": "code",
   "execution_count": 2,
   "metadata": {},
   "outputs": [],
   "source": [
    "batch_size = 32"
   ]
  },
  {
   "cell_type": "code",
   "execution_count": 3,
   "metadata": {},
   "outputs": [],
   "source": [
    "from tensorflow.keras.preprocessing.image import ImageDataGenerator"
   ]
  },
  {
   "cell_type": "code",
   "execution_count": 4,
   "metadata": {},
   "outputs": [],
   "source": [
    "# All images will be rescaled by 1./255\n",
    "train_datagen = ImageDataGenerator(rescale=1/255)"
   ]
  },
  {
   "cell_type": "code",
   "execution_count": 5,
   "metadata": {},
   "outputs": [
    {
     "name": "stdout",
     "output_type": "stream",
     "text": [
      "{0: 'model.h5', 1: 'model.json', 2: 'Pepper__bell___Bacterial_spot', 3: 'Pepper__bell___healthy', 4: 'Potato___Early_blight', 5: 'Potato___healthy', 6: 'Potato___Late_blight', 7: 'Tomato_Bacterial_spot', 8: 'Tomato_Early_blight', 9: 'Tomato_healthy', 10: 'Tomato_Late_blight', 11: 'Tomato_Leaf_Mold', 12: 'Tomato_Septoria_leaf_spot', 13: 'Tomato_Spider_mites_Two_spotted_spider_mite', 14: 'Tomato__Target_Spot', 15: 'Tomato__Tomato_mosaic_virus', 16: 'Tomato__Tomato_YellowLeaf__Curl_Virus'}\n"
     ]
    }
   ],
   "source": [
    "import os\n",
    "os.chdir('C:\\\\Users\\\\Binaya.DESKTOP-AAL8H23\\\\Desktop\\\\PlantDiseaseDetection\\\\PlantVillage')\n",
    "classes = os.listdir()\n",
    "d = dict(zip(range(len(classes)),classes))\n",
    "print(d)"
   ]
  },
  {
   "cell_type": "code",
   "execution_count": 6,
   "metadata": {},
   "outputs": [
    {
     "name": "stdout",
     "output_type": "stream",
     "text": [
      "Found 20638 images belonging to 15 classes.\n"
     ]
    }
   ],
   "source": [
    "# Flow training images in batches of 128 using train_datagen generator\n",
    "train_generator = train_datagen.flow_from_directory(\n",
    "        'C:\\\\Users\\\\Binaya.DESKTOP-AAL8H23\\\\Desktop\\\\PlantDiseaseDetection\\\\PlantVillage',  # This is the source directory for training images\n",
    "        target_size=(100, 100),  # All images will be resized to 100 x 100\n",
    "        batch_size=batch_size,\n",
    "    \n",
    "        # Specify the classes explicitly ##classes = 16, Here We have 16 Classes\n",
    "        classes = ['Pepper__bell___Bacterial_spot','Pepper__bell___healthy', 'Potato___Early_blight', \n",
    "                   'Potato___healthy','Potato___Late_blight','Tomato_Bacterial_spot','Tomato_Early_blight', 'Tomato_healthy',\n",
    "                   'Tomato_Late_blight','Tomato_Leaf_Mold','Tomato_Septoria_leaf_spot', \n",
    "                   'Tomato_Spider_mites_Two_spotted_spider_mite','Tomato__Target_Spot','Tomato__Tomato_mosaic_virus',\n",
    "                   'Tomato__Tomato_YellowLeaf__Curl_Virus'],\n",
    "        # Since we use categorical_crossentropy loss, we need categorical labels\n",
    "        class_mode='categorical')"
   ]
  },
  {
   "cell_type": "code",
   "execution_count": 7,
   "metadata": {},
   "outputs": [],
   "source": [
    "import tensorflow as tf"
   ]
  },
  {
   "cell_type": "code",
   "execution_count": 8,
   "metadata": {},
   "outputs": [
    {
     "name": "stdout",
     "output_type": "stream",
     "text": [
      "Model: \"sequential\"\n",
      "_________________________________________________________________\n",
      "Layer (type)                 Output Shape              Param #   \n",
      "=================================================================\n",
      "conv2d (Conv2D)              (None, 98, 98, 16)        448       \n",
      "_________________________________________________________________\n",
      "max_pooling2d (MaxPooling2D) (None, 49, 49, 16)        0         \n",
      "_________________________________________________________________\n",
      "conv2d_1 (Conv2D)            (None, 47, 47, 32)        4640      \n",
      "_________________________________________________________________\n",
      "max_pooling2d_1 (MaxPooling2 (None, 23, 23, 32)        0         \n",
      "_________________________________________________________________\n",
      "conv2d_2 (Conv2D)            (None, 21, 21, 64)        18496     \n",
      "_________________________________________________________________\n",
      "max_pooling2d_2 (MaxPooling2 (None, 10, 10, 64)        0         \n",
      "_________________________________________________________________\n",
      "conv2d_3 (Conv2D)            (None, 8, 8, 128)         73856     \n",
      "_________________________________________________________________\n",
      "max_pooling2d_3 (MaxPooling2 (None, 4, 4, 128)         0         \n",
      "_________________________________________________________________\n",
      "conv2d_4 (Conv2D)            (None, 2, 2, 256)         295168    \n",
      "_________________________________________________________________\n",
      "max_pooling2d_4 (MaxPooling2 (None, 1, 1, 256)         0         \n",
      "_________________________________________________________________\n",
      "flatten (Flatten)            (None, 256)               0         \n",
      "_________________________________________________________________\n",
      "dense (Dense)                (None, 512)               131584    \n",
      "_________________________________________________________________\n",
      "dense_1 (Dense)              (None, 15)                7695      \n",
      "=================================================================\n",
      "Total params: 531,887\n",
      "Trainable params: 531,887\n",
      "Non-trainable params: 0\n",
      "_________________________________________________________________\n"
     ]
    }
   ],
   "source": [
    "model = tf.keras.models.Sequential([\n",
    "    # Note the input shape is the desired size of the image 100x 100 with 3 bytes color\n",
    "    # The first convolution\n",
    "    \n",
    "    tf.keras.layers.Conv2D(16, (3,3), activation='relu', input_shape=(100, 100, 3)),\n",
    "    tf.keras.layers.MaxPooling2D(2, 2),\n",
    "    \n",
    "    # The second convolution\n",
    "    tf.keras.layers.Conv2D(32, (3,3), activation='relu'),\n",
    "    tf.keras.layers.MaxPooling2D(2,2),\n",
    "    \n",
    "    # The third convolution\n",
    "    tf.keras.layers.Conv2D(64, (3,3), activation='relu'),\n",
    "    tf.keras.layers.MaxPooling2D(2,2),\n",
    "    \n",
    "    # The fourth convolution\n",
    "    tf.keras.layers.Conv2D(128, (3,3), activation='relu'),\n",
    "    tf.keras.layers.MaxPooling2D(2,2),\n",
    "    \n",
    "    # The fifth convolution\n",
    "    tf.keras.layers.Conv2D(256, (3,3), activation='relu'),\n",
    "    tf.keras.layers.MaxPooling2D(2,2),\n",
    "    \n",
    "    # Flatten the results to feed into a dense layer\n",
    "    tf.keras.layers.Flatten(),\n",
    "    \n",
    "    # 128 neuron in the fully-connected layer\n",
    "    tf.keras.layers.Dense(512, activation='relu'),\n",
    "    \n",
    "    # 5 output neurons for 5 classes with the softmax activation\n",
    "    tf.keras.layers.Dense(15, activation='softmax')\n",
    "])\n",
    "model.summary()"
   ]
  },
  {
   "cell_type": "code",
   "execution_count": 9,
   "metadata": {},
   "outputs": [],
   "source": [
    "from tensorflow.keras.optimizers import RMSprop"
   ]
  },
  {
   "cell_type": "code",
   "execution_count": 10,
   "metadata": {},
   "outputs": [
    {
     "name": "stdout",
     "output_type": "stream",
     "text": [
      "WARNING:tensorflow:From <ipython-input-10-5b9f9c63f218>:13: Model.fit_generator (from tensorflow.python.keras.engine.training) is deprecated and will be removed in a future version.\n",
      "Instructions for updating:\n",
      "Please use Model.fit, which supports generators.\n",
      "WARNING:tensorflow:sample_weight modes were coerced from\n",
      "  ...\n",
      "    to  \n",
      "  ['...']\n",
      "Train for 644 steps\n",
      "Epoch 1/70\n",
      "644/644 [==============================] - 130s 202ms/step - loss: 1.6240 - acc: 0.4648 2:04 - lo - ETA: 1:43 - loss: 2.3892  - ETA: 1:39 - loss: 2.3710 - acc: 0.2 - ETA: 1: - ETA: 1:31 - ETA: 1:24 - loss: 2.2634 - acc: 0.254 - ETA:  - ETA: 17s - loss: 1. - ETA: 5s - l\n",
      "Epoch 2/70\n",
      "644/644 [==============================] - 54s 83ms/step - loss: 0.7275 - acc: 0.7545\n",
      "Epoch 3/70\n",
      "644/644 [==============================] - 53s 83ms/step - loss: 0.4968 - acc: 0.8306\n",
      "Epoch 4/70\n",
      "644/644 [==============================] - 53s 83ms/step - loss: 0.3743 - acc: 0.8771\n",
      "Epoch 5/70\n",
      "644/644 [==============================] - 54s 83ms/step - loss: 0.3059 - acc: 0.8990\n",
      "Epoch 6/70\n",
      "644/644 [==============================] - 54s 83ms/step - loss: 0.2625 - acc: 0.9146\n",
      "Epoch 7/70\n",
      "644/644 [==============================] - 57s 88ms/step - loss: 0.2242 - acc: 0.9299\n",
      "Epoch 8/70\n",
      "644/644 [==============================] - 68s 105ms/step - loss: 0.2021 - acc: 0.93970s - loss: 0.2024 - acc: 0.9\n",
      "Epoch 9/70\n",
      "644/644 [==============================] - 106s 164ms/step - loss: 0.1811 - acc: 0.9447s - loss\n",
      "Epoch 10/70\n",
      "644/644 [==============================] - 54s 83ms/step - loss: 0.1785 - acc: 0.9482\n",
      "Epoch 11/70\n",
      "644/644 [==============================] - 54s 83ms/step - loss: 0.1737 - acc: 0.9520\n",
      "Epoch 12/70\n",
      "644/644 [==============================] - 54s 84ms/step - loss: 0.1919 - acc: 0.9494\n",
      "Epoch 13/70\n",
      "644/644 [==============================] - 54s 84ms/step - loss: 0.1792 - acc: 0.9535\n",
      "Epoch 14/70\n",
      "644/644 [==============================] - 54s 83ms/step - loss: 0.1858 - acc: 0.9541\n",
      "Epoch 15/70\n",
      "644/644 [==============================] - 54s 83ms/step - loss: 0.1858 - acc: 0.9508\n",
      "Epoch 16/70\n",
      "644/644 [==============================] - 57s 88ms/step - loss: 0.1912 - acc: 0.9519\n",
      "Epoch 17/70\n",
      "644/644 [==============================] - 57s 88ms/step - loss: 0.1955 - acc: 0.9527\n",
      "Epoch 18/70\n",
      "644/644 [==============================] - 57s 88ms/step - loss: 0.1986 - acc: 0.9556\n",
      "Epoch 19/70\n",
      "644/644 [==============================] - 58s 90ms/step - loss: 0.1875 - acc: 0.9555\n",
      "Epoch 20/70\n",
      "644/644 [==============================] - 56s 87ms/step - loss: 0.2231 - acc: 0.9551\n",
      "Epoch 21/70\n",
      "644/644 [==============================] - 57s 88ms/step - loss: 0.2058 - acc: 0.9551\n",
      "Epoch 22/70\n",
      "644/644 [==============================] - 55s 86ms/step - loss: 0.2191 - acc: 0.9570\n",
      "Epoch 23/70\n",
      "644/644 [==============================] - 57s 88ms/step - loss: 0.1965 - acc: 0.9571\n",
      "Epoch 24/70\n",
      "644/644 [==============================] - 58s 90ms/step - loss: 0.1996 - acc: 0.9562\n",
      "Epoch 25/70\n",
      "644/644 [==============================] - 58s 91ms/step - loss: 0.1980 - acc: 0.9564\n",
      "Epoch 26/70\n",
      "644/644 [==============================] - 56s 87ms/step - loss: 0.2117 - acc: 0.9582\n",
      "Epoch 27/70\n",
      "644/644 [==============================] - 57s 89ms/step - loss: 0.2057 - acc: 0.9588\n",
      "Epoch 28/70\n",
      "644/644 [==============================] - 57s 89ms/step - loss: 0.2198 - acc: 0.9623\n",
      "Epoch 29/70\n",
      "644/644 [==============================] - 54s 84ms/step - loss: 0.2159 - acc: 0.9600\n",
      "Epoch 30/70\n",
      "644/644 [==============================] - 54s 83ms/step - loss: 0.1971 - acc: 0.9604\n",
      "Epoch 31/70\n",
      "644/644 [==============================] - 54s 83ms/step - loss: 0.2329 - acc: 0.9559\n",
      "Epoch 32/70\n",
      "644/644 [==============================] - 54s 83ms/step - loss: 0.2013 - acc: 0.9597\n",
      "Epoch 33/70\n",
      "644/644 [==============================] - 69s 107ms/step - loss: 0.2130 - acc: 0.9600\n",
      "Epoch 34/70\n",
      "644/644 [==============================] - 107s 166ms/step - loss: 0.2021 - acc: 0.9610\n",
      "Epoch 35/70\n",
      "644/644 [==============================] - 111s 172ms/step - loss: 0.2219 - acc: 0.9628\n",
      "Epoch 36/70\n",
      "644/644 [==============================] - 105s 163ms/step - loss: 0.2443 - acc: 0.9630\n",
      "Epoch 37/70\n",
      "644/644 [==============================] - 102s 159ms/step - loss: 0.2273 - acc: 0.9606\n",
      "Epoch 38/70\n",
      "644/644 [==============================] - 109s 169ms/step - loss: 0.2491 - acc: 0.9612\n",
      "Epoch 39/70\n",
      "644/644 [==============================] - 112s 173ms/step - loss: 0.2062 - acc: 0.9660\n",
      "Epoch 40/70\n",
      "644/644 [==============================] - 111s 172ms/step - loss: 0.1982 - acc: 0.9643\n",
      "Epoch 41/70\n",
      "644/644 [==============================] - 110s 171ms/step - loss: 0.2419 - acc: 0.9661\n",
      "Epoch 42/70\n",
      "644/644 [==============================] - 110s 171ms/step - loss: 0.1945 - acc: 0.9686s - loss: 0\n",
      "Epoch 43/70\n",
      "644/644 [==============================] - 111s 173ms/step - loss: 0.1943 - acc: 0.9687\n",
      "Epoch 44/70\n",
      "644/644 [==============================] - 110s 171ms/step - loss: 0.2034 - acc: 0.9687\n",
      "Epoch 45/70\n",
      "644/644 [==============================] - 112s 173ms/step - loss: 0.2179 - acc: 0.9687s - loss: 0.2188 - acc: 0.\n",
      "Epoch 46/70\n",
      "644/644 [==============================] - 108s 168ms/step - loss: 0.2366 - acc: 0.9690\n",
      "Epoch 47/70\n",
      "644/644 [==============================] - 103s 160ms/step - loss: 0.2018 - acc: 0.9673\n",
      "Epoch 48/70\n",
      "644/644 [==============================] - 107s 166ms/step - loss: 0.2030 - acc: 0.9700\n",
      "Epoch 49/70\n",
      "644/644 [==============================] - 103s 161ms/step - loss: 0.2139 - acc: 0.9689\n",
      "Epoch 50/70\n",
      "644/644 [==============================] - 105s 162ms/step - loss: 0.1980 - acc: 0.9690\n",
      "Epoch 51/70\n",
      "644/644 [==============================] - 106s 165ms/step - loss: 0.2047 - acc: 0.9710\n",
      "Epoch 52/70\n",
      "644/644 [==============================] - 113s 176ms/step - loss: 0.2340 - acc: 0.9670\n",
      "Epoch 53/70\n",
      "644/644 [==============================] - 113s 175ms/step - loss: 0.2353 - acc: 0.9696\n",
      "Epoch 54/70\n",
      "644/644 [==============================] - 110s 171ms/step - loss: 0.2220 - acc: 0.9677\n",
      "Epoch 55/70\n",
      "644/644 [==============================] - 108s 167ms/step - loss: 0.2266 - acc: 0.9714\n",
      "Epoch 56/70\n",
      "644/644 [==============================] - 109s 168ms/step - loss: 0.2425 - acc: 0.9708\n",
      "Epoch 57/70\n",
      "644/644 [==============================] - 106s 164ms/step - loss: 0.2040 - acc: 0.9715s - loss: 0.2061 - acc\n",
      "Epoch 58/70\n",
      "644/644 [==============================] - 104s 161ms/step - loss: 0.2186 - acc: 0.9707s - loss: 0.2193 - acc: 0\n",
      "Epoch 59/70\n",
      "644/644 [==============================] - 103s 160ms/step - loss: 0.2003 - acc: 0.9720\n",
      "Epoch 60/70\n",
      "644/644 [==============================] - 106s 164ms/step - loss: 0.2099 - acc: 0.9733\n",
      "Epoch 61/70\n",
      "644/644 [==============================] - 107s 167ms/step - loss: 0.2461 - acc: 0.9738\n",
      "Epoch 62/70\n",
      "644/644 [==============================] - 111s 172ms/step - loss: 0.2435 - acc: 0.9733\n",
      "Epoch 63/70\n",
      "644/644 [==============================] - 109s 169ms/step - loss: 0.2497 - acc: 0.9755\n",
      "Epoch 64/70\n",
      "644/644 [==============================] - 112s 174ms/step - loss: 0.2392 - acc: 0.9721\n",
      "Epoch 65/70\n",
      "644/644 [==============================] - 102s 158ms/step - loss: 0.2377 - acc: 0.9713\n",
      "Epoch 66/70\n",
      "644/644 [==============================] - 102s 159ms/step - loss: 0.2520 - acc: 0.9753\n",
      "Epoch 67/70\n",
      "644/644 [==============================] - 99s 154ms/step - loss: 0.2471 - acc: 0.9719\n",
      "Epoch 68/70\n",
      "644/644 [==============================] - 110s 171ms/step - loss: 0.2663 - acc: 0.9700\n",
      "Epoch 69/70\n",
      "644/644 [==============================] - 108s 167ms/step - loss: 0.2655 - acc: 0.9761s - loss: \n",
      "Epoch 70/70\n",
      "644/644 [==============================] - 106s 165ms/step - loss: 0.2492 - acc: 0.9755\n"
     ]
    }
   ],
   "source": [
    "model.compile(loss='categorical_crossentropy',\n",
    "              optimizer=RMSprop(lr=0.001),\n",
    "              metrics=['acc'])\n",
    "\n",
    "total_sample=train_generator.n\n",
    "\n",
    "n_epochs = 70\n",
    "\n",
    "history = model.fit_generator(\n",
    "        train_generator, \n",
    "        steps_per_epoch=int(total_sample/batch_size),  \n",
    "        epochs=n_epochs,\n",
    "        verbose=1)\n",
    "\n",
    "model.save('model.h5')"
   ]
  },
  {
   "cell_type": "code",
   "execution_count": 11,
   "metadata": {},
   "outputs": [
    {
     "name": "stdout",
     "output_type": "stream",
     "text": [
      "20638\n"
     ]
    }
   ],
   "source": [
    "total_sample=train_generator.n\n",
    "print(total_sample)"
   ]
  },
  {
   "cell_type": "code",
   "execution_count": 20,
   "metadata": {},
   "outputs": [
    {
     "name": "stdout",
     "output_type": "stream",
     "text": [
      "Pepper__bell___Bacterial_spot\n"
     ]
    },
    {
     "data": {
      "image/png": "[encoded data removed]",
      "text/plain": [
       "<Figure size 432x288 with 1 Axes>"
      ]
     },
     "metadata": {
      "needs_background": "light"
     },
     "output_type": "display_data"
    }
   ],
   "source": [
    "import numpy as np\n",
    "import matplotlib.pyplot as plt\n",
    "from keras.preprocessing import image\n",
    "test_image = image.load_img('C:\\\\Users\\\\Binaya.DESKTOP-AAL8H23\\\\Desktop\\\\PlantDiseaseDetection\\\\PlantVillage\\\\Pepper__bell___Bacterial_spot\\\\0d8421cd-eebc-4018-b591-12352dd970a7___JR_B.Spot 3234.JPG', target_size = (100,100))\n",
    "imageplot = plt.imshow(test_image)\n",
    "x = image.img_to_array(test_image)\n",
    "x = np.expand_dims(x, axis=0)\n",
    "images = np.vstack([x])\n",
    "#test_image = image.img_to_array(test_image)\n",
    "result = model.predict(images, batch_size=10)\n",
    "\n",
    "\n",
    "if result[0][0] == 1:\n",
    "    print(\"Pepper__bell___Bacterial_spot\")\n",
    "elif result[0][1] == 1:\n",
    "    print(\"Pepper__bell___healthy\")\n",
    "elif result[0][2] == 1:\n",
    "    print(\"Potato___Early_blight\")\n",
    "elif result[0][3] == 1:\n",
    "    print(\"Potato___healthy\")\n",
    "elif result[0][4] == 1:\n",
    "    print(\"Potato___Late_blight\")\n",
    "elif result[0][5] == 1:\n",
    "    print(\"Tomato_Bacterial_spot\")\n",
    "elif result[0][6] == 1:\n",
    "    print(\"Tomato_Early_blight\")\n",
    "elif result[0][7] == 1:\n",
    "    print(\"Tomato_healthy\")\n",
    "elif result[0][8] == 1:\n",
    "    print(\"Tomato_Late_blight\")\n",
    "elif result[0][9] == 1:\n",
    "    print(\"Tomato_Leaf_Mold\")\n",
    "elif result[0][10] == 1:\n",
    "    print(\"Tomato_Septoria_leaf_spot\")\n",
    "elif result[0][11] == 1:\n",
    "    print(\"Tomato_Spider_mites_Two_spotted_spider_mite\")\n",
    "elif result[0][12] == 1:\n",
    "    print(\"Tomato__Target_Spot\")\n",
    "elif result[0][13] == 1:\n",
    "    print(\"Tomato__Tomato_mosaic_virus\")\n",
    "elif result[0][14] == 1:\n",
    "    print(\"Tomato__Tomato_YellowLeaf__Curl_Virus\")"
   ]
  },
  {
   "cell_type": "code",
   "execution_count": 13,
   "metadata": {},
   "outputs": [],
   "source": [
    "# serialize model to JSON\n",
    "model_json = model.to_json()\n",
    "with open(\"model.json\", \"w\") as json_file:\n",
    "    json_file.write(model_json)"
   ]
  },
  {
   "cell_type": "markdown",
   "metadata": {},
   "source": [
    "<center><h1>End of CW_2</h1> </center>"
   ]
  },
  {
   "cell_type": "code",
   "execution_count": null,
   "metadata": {},
   "outputs": [],
   "source": []
  }
 ],
 "metadata": {
  "kernelspec": {
   "display_name": "Python 3",
   "language": "python",
   "name": "python3"
  },
  "language_info": {
   "codemirror_mode": {
    "name": "ipython",
    "version": 3
   },
   "file_extension": ".py",
   "mimetype": "text/x-python",
   "name": "python",
   "nbconvert_exporter": "python",
   "pygments_lexer": "ipython3",
   "version": "3.7.6"
  }
 },
 "nbformat": 4,
 "nbformat_minor": 2
}
